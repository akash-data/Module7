{
  "cells": [
    {
      "cell_type": "markdown",
      "metadata": {
        "id": "v0bvWBhA9Lzu"
      },
      "source": [
        "# Topic:  Files, exceptional handling, logging and memory management Questions"
      ]
    },
    {
      "cell_type": "markdown",
      "metadata": {
        "id": "Tgd8ghsi9LxJ"
      },
      "source": [
        "Q1: What is the difference between interpreted and compiled languages?\n",
        "\n",
        "Ans ->  \n",
        "\n",
        "***Interpreted languagest***\n",
        "\n",
        "Interpreted languages are executed directly from the source code, line by line or statement by statement, by a program called an interpreter. The interpreter translates each instruction into machine code and executes it immediately.\n",
        "\n",
        "  *How it works*\n",
        "\n",
        "  *  The source code is parsed ( broken down into smaller components called tokens ) and analyzed line by line.\n",
        "  *  The interpreter directly executes these instructions without generating a separate executable file.\n",
        "\n",
        "*Advantages*\n",
        "\n",
        "  * __Ease of development__: Interpreted languages allow for rapid development and testing because changes to the code can be immediately executed without needing a separate compilation step.\n",
        "  * __Easier debugging__: Interpreters can provide more detailed error messages and stop execution at the exact line where an error occurs, making debugging simpler.\n",
        "  * __Platform independence__: Interpreted code can be run on any platform with a suitable interpreter for the language, making it highly portable\n",
        "\n",
        "*Disadvantages*\n",
        "\n",
        "  * __Slower execution__: Interpreted languages are generally slower than compiled languages because the code is translated and executed line by line, introducing a performance overhead at runtime.\n",
        "\n",
        "\n",
        "  * __Source code exposure__: Interpreted code often requires the source code to be available on the execution machine, potentially posing security risks or challenges for proprietary software.\n",
        "\n",
        "  * __Less optimized code__: Interpreters typically have limited opportunities for optimization compared to compilers, leading to less efficient code.\n",
        "\n",
        "___Examples: Python, JavaScript, Ruby, Perl.___  \n",
        "\n",
        "****\n",
        "\n",
        "***Compiled languages***\n",
        "\n",
        "Compiled languages, on the other hand, are translated into machine code before execution by a program called a compiler. The compiler converts the entire source code into an executable file that can be run independently.\n",
        "\n",
        "*How it works*\n",
        "\n",
        "  * The compiler analyzes the entire source code and translates it into an intermediate representation called object code.\n",
        "  * The object code is then linked with other necessary files, such as libraries, to create the final executable program.\n",
        "  * This executable file can then be directly run by the computer's CPU.\n",
        "\n",
        "*Advantages*\n",
        "\n",
        "  * __Faster execution__: Compiled code is generally faster because the entire program is pre-translated into machine code and optimized before execution.\n",
        "  * __Enhanced security__: The executable file doesn't expose the source code, making it more difficult to reverse engineer or modify.\n",
        "  * __Distribution__: The compiled executable can be distributed without the source code, simplifying deployment and maintaining intellectual property.\n",
        "\n",
        "*Disadvantages*\n",
        "\n",
        "  * __Platform dependence__: Compiled executables are typically platform-specific and can only run on the operating system and hardware architecture for which they were compiled.\n",
        "  * __Longer development cycle__: Changes to the code require recompilation, which can be time-consuming, especially for larger projects.\n",
        "  * __Debugging complexity__: Debugging compiled code can be more challenging because errors are often detected during compilation rather than at runtime, and the compiled binary is not human-readable.\n",
        "\n",
        "\n",
        "___Examples: C, C++, Rust, Go, Haskell.___\n"
      ]
    },
    {
      "cell_type": "markdown",
      "metadata": {
        "id": "pIGOdPny9Lui"
      },
      "source": [
        "Q2: What is exception handling in Python?\n",
        "\n",
        "Ans->\n",
        "\n",
        "Exception handling can be done for both user-defined and built-in exceptions. When an error occurs, Python interpreter creates an object called the exception object. This object contains information about the error like its type, file name and position in the program where the error has occurred.\n"
      ]
    },
    {
      "cell_type": "markdown",
      "metadata": {
        "id": "vbzNTjGT9Lrq"
      },
      "source": [
        "Q3: What is the purpose of the finally block in exception handling?\n",
        "\n",
        "Ans->\n",
        "\n",
        "The finally block in exception handling ensures that a specific block of code is always executed, regardless of whether an exception is thrown or caught within the try block. Its primary purpose is to perform necessary cleanup operations, such as releasing resources ( closing files, database connections, etc. ) or performing other final actions, to prevent resource leaks and ensure proper program termination."
      ]
    },
    {
      "cell_type": "markdown",
      "metadata": {
        "id": "4i42ebid9LpC"
      },
      "source": [
        "Q4: What is logging in Python?\n",
        "\n",
        "Ans->\n",
        "\n",
        "Logging is a means of tracking events that happen when some software runs. The software's developer adds logging calls to their code to indicate that certain events have occurred."
      ]
    },
    {
      "cell_type": "markdown",
      "metadata": {
        "id": "5TkAdrmF9Lln"
      },
      "source": [
        "Q5: What is the significance of the _ _ _del_ _ _ method in Python?\n",
        "\n",
        "Ans->\n",
        "\n",
        "The _ _ _del_ _ _ method in Python is a powerful tool for managing resource cleanup when objects are destroyed.\n",
        "\n"
      ]
    },
    {
      "cell_type": "markdown",
      "metadata": {
        "id": "E40s8pHi9LiA"
      },
      "source": [
        "Q6: What is the difference between import and from   ...import in Python?\n",
        "\n",
        "Ans->\n",
        "\n",
        "*Difference between __import__ and from __... import__ in Python*\n",
        "\n",
        "Both **import** and from **... import** are used to bring code from one module into another. However, they manage the visibility and access of those elements in the current program differently.\n",
        "\n",
        "*i. The key distinctions:*\n",
        "\n",
        " __Scope of Import:__\n",
        " * *import module_name:* Imports the entire module into the current namespace.\n",
        "\n",
        " * *from module_name import element(s):* Imports only the specified elements (like functions, classes, or variables) directly into the current namespace.\n",
        "\n",
        "*ii. Accessing Elements:*\n",
        "\n",
        " * *import module_name:* Requires the module name to be prefixed to access its components, such as math.pi or math.sqrt( ).\n",
        "\n",
        " * *from module_name import element(s):* Allows direct use of the imported elements without the module prefix, such as __pi__ or __sqrt( )__.\n",
        "\n",
        "*iii. Namespace Clarity and Conflicts:*\n",
        "\n",
        " * *import module_name:* Improves clarity, clearly showing the origin of each function or variable. For example, __math.sqrt( )__ indicates that sqrt is from the math module. This reduces the risk of name clashes, particularly in large projects.\n",
        " * *from module_name import element(s):* Can lead to namespace pollution and potential naming conflicts if the imported element's name clashes with an existing name in the current module or other imported modules.\n",
        "\n",
        "*iv. Use Case Suitability:*\n",
        "\n",
        " * *import module_name:* Recommended when many elements from a module are needed or when the module name is concise and descriptive.\n",
        " * *from module_name import element(s):* Suitable for importing only a few specific items from a module, especially if the module name is long and you want to avoid repeated typing.\n",
        "\n",
        "\n",
        "\n",
        "\n",
        "##Example\n",
        "\n",
        "\n",
        "\n"
      ]
    },
    {
      "cell_type": "code",
      "execution_count": null,
      "metadata": {
        "colab": {
          "base_uri": "https://localhost:8080/"
        },
        "id": "ly--lP7pHfhE",
        "outputId": "25b3a108-6a1b-454a-a41d-45ce24e46385"
      },
      "outputs": [
        {
          "name": "stdout",
          "output_type": "stream",
          "text": [
            "3.141592653589793\n",
            "5.0\n"
          ]
        }
      ],
      "source": [
        "# import math\n",
        "\n",
        "import math\n",
        "print(math.pi)    # Output: 3.141592653589793\n",
        "print(math.sqrt(25)) # Output: 5.0\n",
        "\n",
        "\n"
      ]
    },
    {
      "cell_type": "code",
      "execution_count": null,
      "metadata": {
        "colab": {
          "base_uri": "https://localhost:8080/"
        },
        "id": "xpo4KOkkHfvs",
        "outputId": "01b929ab-7102-42f0-8411-f2d4f6b81aa7"
      },
      "outputs": [
        {
          "name": "stdout",
          "output_type": "stream",
          "text": [
            "3.141592653589793\n",
            "5.0\n"
          ]
        }
      ],
      "source": [
        "# n this case, pi and sqrt are accessed using the math. prefix.\n",
        "# from math import pi, sqrt:\n",
        "\n",
        "from math import pi, sqrt\n",
        "print(pi)    # Output: 3.141592653589793\n",
        "print(sqrt(25)) # Output: 5.0"
      ]
    },
    {
      "cell_type": "markdown",
      "metadata": {
        "id": "Fg0SMqUU9LeI"
      },
      "source": [
        "Q7: How can you handle multiple exceptions in Python?\n",
        "\n",
        "Ans->\n",
        "\n",
        "To catch multiple exceptions in Python in a compact form, *we can use the one-line try-except syntax.* This is especially useful for handling minor errors without breaking the program flow. This one-line try-except statement catches multiple exceptions and provides a concise error-handling method."
      ]
    },
    {
      "cell_type": "markdown",
      "metadata": {
        "id": "tv4qo8QG9LTW"
      },
      "source": [
        "Q8: What is the purpose of the with statement when handling files in Python?\n",
        "\n",
        "Ans->\n",
        "\n",
        "The __'with'__ statement is used *to simplify resource management by providing a convenient way to set up and tear down resources.* It ensures proper cleanup even in the presence of exceptions, making code more readable and less error-prone."
      ]
    },
    {
      "cell_type": "markdown",
      "metadata": {
        "id": "UeJUtmh09LO7"
      },
      "source": [
        "Q9: What is the difference between multithreading and multiprocessing?\n",
        "\n",
        "Ans->\n",
        "\n",
        "Multiprocessing uses two or more CPUs to increase computing power, whereas multithreading uses a single process with multiple code segments to increase computing power. Multithreading focuses on generating computing threads from a single process, whereas multiprocessing increases computing power by adding CPUs."
      ]
    },
    {
      "cell_type": "markdown",
      "metadata": {
        "id": "QY3oWwTqJarR"
      },
      "source": [
        "Q10: What are the advantages of using logging in a program?\n",
        "\n",
        "Ans->\n",
        "\n",
        "Python logging is a module that allows you to track events that occur while your program is running. You can use logging to record information about errors, warnings, and other events that occur during program execution. And logging is a useful tool for debugging, troubleshooting, and monitoring your program."
      ]
    },
    {
      "cell_type": "markdown",
      "metadata": {
        "id": "zo5V755xJaje"
      },
      "source": [
        "Q11: What is memory management in Python?\n",
        "\n",
        "Ans->\n",
        "\n",
        "Memory management in Python involves the management of a private heap. A private heap is a portion of memory that is exclusive to the Python process. All Python objects and data structures are stored in the private heap. The operating system cannot allocate this piece of memory to another process."
      ]
    },
    {
      "cell_type": "markdown",
      "metadata": {
        "id": "Z-IZXKw-JaZi"
      },
      "source": [
        "Q12: What are the basic steps involved in exception handling in Python?\n",
        "\n",
        "Ans->\n",
        "\n",
        "Exception handling typically involves using *try* and *except* blocks. You enclose the code that might throw an exception in a try block. If an exception occurs, the catch block is executed, allowing you to handle the exception—whether that's logging an error, informing the user, or taking corrective action in the code."
      ]
    },
    {
      "cell_type": "markdown",
      "metadata": {
        "id": "gssquQQtJaLt"
      },
      "source": [
        "Q13: Why is memory management important in Python?\n",
        "\n",
        "Ans->\n",
        "\n",
        "Python memory management is the process of allocating and dealing with memory so that your programs can run efficiently. One advantage of Python, compared to other programming languages, is that it can perform memory management tasks automatically."
      ]
    },
    {
      "cell_type": "markdown",
      "metadata": {
        "id": "b62ahBvhJZ_s"
      },
      "source": [
        "Q14: What is the role of try and except in exception handling?\n",
        "\n",
        "Ans->\n",
        "\n",
        "In Python, the *try -- except* blocks are fundamental to exception handling. The try block contains the code that might potentially raise an exception (an error during execution). If an exception occurs within the try block, the except block is executed, allowing you to handle the error gracefully instead of letting the program crash. This prevents unexpected termination and allows the program to continue execution with alternative actions or messages."
      ]
    },
    {
      "cell_type": "markdown",
      "metadata": {
        "id": "20mlHPKlJZvu"
      },
      "source": [
        "Q15: How does Python's garbage collection system work?\n",
        "\n",
        "Ans->\n",
        "\n",
        "Python's garbage collection automatically cleans up any unused objects based on reference counting and object allocation and deallocation, meaning users won't have to clean these objects manually. This also helps periodically clear up memory space to help a program run more smoothly."
      ]
    },
    {
      "cell_type": "markdown",
      "metadata": {
        "id": "UyHNhs-eJYrn"
      },
      "source": [
        "Q16: What is the purpose of the else block in exception handling?\n",
        "\n",
        "Ans->\n",
        "\n",
        "The else block lets you execute code when there is no error. The finally block lets you execute code, regardless of the result of the try- and except blocks."
      ]
    },
    {
      "cell_type": "markdown",
      "metadata": {
        "id": "AtbRAxLXLrU2"
      },
      "source": [
        "Q17: What are the common logging levels in Python?\n",
        "\n",
        "Ans->\n",
        "\n",
        " The common logging levels, from lowest to highest severity, are:\n",
        "\n",
        "  * *DEBUG (10):*\n",
        "\n",
        "      Detailed information, typically useful only when diagnosing problems or during development.\n",
        "\n",
        "  * *INFO (20):*\n",
        "\n",
        "       Confirmation that things are working as expected. These messages are generally informative and can be ignored during normal operations.\n",
        "   \n",
        "  * *WARNING (30):*\n",
        "\n",
        "       An indication that something unexpected happened or could happen soon, but the application is still functioning. This level suggests a potential problem that warrants attention.\n",
        "\n",
        "  * *ERROR (40):*\n",
        "\n",
        "       A more serious problem that has prevented the software from performing some functions. This level indicates an issue that requires investigation.   \n",
        "\n",
        "  * *CRITICAL (50):*\n",
        "\n",
        "       A severe error indicating that the program itself may be unable to continue running. This is the highest severity level and signifies a critical failure.            "
      ]
    },
    {
      "cell_type": "markdown",
      "metadata": {
        "id": "IRkmisL5LrRd"
      },
      "source": [
        "Q18: What is the difference between __os.fork( )__ and multiprocessing in Python?\n",
        "\n",
        "Ans->\n",
        "\n",
        "I have this code :\n"
      ]
    },
    {
      "cell_type": "code",
      "execution_count": null,
      "metadata": {
        "colab": {
          "base_uri": "https://localhost:8080/"
        },
        "id": "H6qMptNjPKeC",
        "outputId": "b43b1890-2c21-4d38-e72a-4693758ce01c"
      },
      "outputs": [
        {
          "name": "stdout",
          "output_type": "stream",
          "text": [
            "Parent process\n"
          ]
        }
      ],
      "source": [
        "# example of os.fork()\n",
        "\n",
        "'''\n",
        "* Low-level system call available only on Unix/Linux.\n",
        "\n",
        "* Duplicates the current process: the parent continues, and the child gets a copy of the current process.\n",
        "\n",
        "* The child starts from the point where fork() was called.\n",
        "\n",
        "* No automatic data serialization or process management.\n",
        "\n",
        "\n",
        "'''\n",
        "import os\n",
        "\n",
        "pid = os.fork()\n",
        "if pid == 0:\n",
        "    print(\"Child process\")\n",
        "else:\n",
        "    print(\"Parent process\")\n"
      ]
    },
    {
      "cell_type": "code",
      "execution_count": null,
      "metadata": {
        "colab": {
          "base_uri": "https://localhost:8080/"
        },
        "id": "5Z2YYQAgQSyJ",
        "outputId": "e83e511a-55df-40e1-de9d-ed4a703dff5c"
      },
      "outputs": [
        {
          "name": "stdout",
          "output_type": "stream",
          "text": [
            "Child process\n",
            "Parent process\n"
          ]
        }
      ],
      "source": [
        "# Example of multiprocessing\n",
        "'''\n",
        "* High-level and cross-platform (works on Windows, macOS, Linux).\n",
        "\n",
        "* Starts a new Python interpreter process and runs the specified function from scratch, not as a copy of the parent.\n",
        "\n",
        "* Uses pickle to serialize data between processes.\n",
        "\n",
        "* Safer and easier to manage, especially for beginners.\n",
        "\n",
        "'''\n",
        "\n",
        "from multiprocessing import Process\n",
        "\n",
        "def child_process():\n",
        "    print(\"Child process\")\n",
        "\n",
        "p = Process(target=child_process)\n",
        "p.start()          # Starts the child process (calls child_process in a new process)\n",
        "print(\"Parent process\")  # Printed by the main process\n",
        "p.join()           # Waits for the child process to finish\n",
        "\n"
      ]
    },
    {
      "cell_type": "markdown",
      "metadata": {
        "id": "Ad-ykQLHLrIm"
      },
      "source": [
        "Q19: What is the importance of closing a file in Python?\n",
        "\n",
        "Ans->\n",
        "\n",
        "Closing a file in Python is crucial for resource management and data integrity. It releases the file handle, preventing potential resource leaks and ensuring all buffered data is written to the file. This prevents data loss and avoids issues with file locking and other processes attempting to access the file."
      ]
    },
    {
      "cell_type": "markdown",
      "metadata": {
        "id": "fgjoAwLFLrFU"
      },
      "source": [
        "Q20: What is the difference between __file.read( )__ and __file.readline( )__ in Python?\n",
        "\n",
        "Ans->\n",
        "\n",
        "The `read()` method in Python is used to read a specific number of characters from a file or input stream, while the `readline()` method is used to read a single line from a file or input stream"
      ]
    },
    {
      "cell_type": "markdown",
      "metadata": {
        "id": "-IgYnIcoLrAR"
      },
      "source": [
        "Q21: What is the logging module in Python used for?\n",
        "\n",
        "Ans->\n",
        "\n",
        "Python logging is a module that allows you to track events that occur while your program is running. You can use logging to record information about errors, warnings, and other events that occur during program execution."
      ]
    },
    {
      "cell_type": "markdown",
      "metadata": {
        "id": "V6KQT2GbLq9r"
      },
      "source": [
        "Q22: What is the os module in Python used for in file handling?\n",
        "\n",
        "Ans->\n",
        "\n",
        "The Python OS module is essential for file-related tasks, enabling efficient file and directory management in programs. It allows you to easily handle the current working directory, create and delete directories, list files and folders, and perform file operations."
      ]
    },
    {
      "cell_type": "markdown",
      "metadata": {
        "id": "6fpmlTddLq6e"
      },
      "source": [
        "Q23: What are the challenges associated with memory management in Python?\n",
        "\n",
        "Ans->\n",
        "\n",
        "Python's automatic memory management, while convenient, presents challenges like potential memory leaks due to cyclical references and performance overhead from reference counting and garbage collection. Memory fragmentation can also occur, particularly with large datasets or high-performance environments.\n",
        "\n",
        "\n"
      ]
    },
    {
      "cell_type": "markdown",
      "metadata": {
        "id": "INeneYpvLq0_"
      },
      "source": [
        "Q24: How do you raise an exception manually in Python?\n",
        "\n",
        "Ans->\n",
        "\n",
        "In Python, exceptions are raised manually using the raise keyword. This allows developers to explicitly signal that an error or exceptional condition has occurred within the code, interrupting the normal flow of execution.\n",
        "\n",
        "__The basic syntax for raising an exception is:__"
      ]
    },
    {
      "cell_type": "code",
      "execution_count": null,
      "metadata": {
        "colab": {
          "base_uri": "https://localhost:8080/",
          "height": 159
        },
        "id": "PQwVKqHO9Eww",
        "outputId": "1c8eb8d3-168b-489f-fb6f-60467c29218e"
      },
      "outputs": [
        {
          "ename": "ValueError",
          "evalue": "Invalid input: must be a number",
          "output_type": "error",
          "traceback": [
            "\u001b[0;31m---------------------------------------------------------------------------\u001b[0m",
            "\u001b[0;31mValueError\u001b[0m                                Traceback (most recent call last)",
            "\u001b[0;32m/tmp/ipython-input-8-1883510222.py\u001b[0m in \u001b[0;36m<cell line: 0>\u001b[0;34m()\u001b[0m\n\u001b[0;32m----> 1\u001b[0;31m \u001b[0;32mraise\u001b[0m \u001b[0mValueError\u001b[0m\u001b[0;34m(\u001b[0m\u001b[0;34m\"Invalid input: must be a number\"\u001b[0m\u001b[0;34m)\u001b[0m\u001b[0;34m\u001b[0m\u001b[0;34m\u001b[0m\u001b[0m\n\u001b[0m\u001b[1;32m      2\u001b[0m \u001b[0;34m\u001b[0m\u001b[0m\n",
            "\u001b[0;31mValueError\u001b[0m: Invalid input: must be a number"
          ]
        }
      ],
      "source": [
        "raise ValueError(\"Invalid input: must be a number\")\n",
        "\n"
      ]
    },
    {
      "cell_type": "markdown",
      "metadata": {
        "id": "W4gZpiGALqxW"
      },
      "source": [
        "Q25: Why is it important to use multithreading in certain applications?\n",
        "\n",
        "Ans->\n",
        "\n",
        "Multithreading is important for improving application performance, responsiveness, and resource utilization, especially in tasks involving heavy computations, user interactions, or network operations. It allows multiple tasks to be executed concurrently within a single process, leading to faster execution, better responsiveness to user input, and more efficient use of system resources."
      ]
    },
    {
      "cell_type": "markdown",
      "metadata": {
        "id": "V96X_u4WLqln"
      },
      "source": [
        "# Practical Questions\n"
      ]
    },
    {
      "cell_type": "markdown",
      "metadata": {
        "id": "iZ0sylMM9K99"
      },
      "source": [
        "Q1: How can you open a file for writing in Python and write a string to it?\n",
        "\n",
        "Ans->\n",
        "\n",
        "To open a file for writing in Python and write a string to it, you can use the built-in `open()` function with mode `'w'` (write mode), and then use the `.write()` method.\n",
        "\n",
        "\n",
        "**Use case**\n",
        "\n"
      ]
    },
    {
      "cell_type": "code",
      "execution_count": 3,
      "metadata": {
        "id": "sXMJMG6IUFio"
      },
      "outputs": [],
      "source": [
        "'''\n",
        "Explanation:\n",
        "\n",
        "'w' mode means:\n",
        "\n",
        "If the file doesn't exist, it will be created.\n",
        "\n",
        "If the file exists, it will be overwritten.\n",
        "\n",
        "with is a context manager that ensures the file is properly closed after writing.\n",
        "\n",
        "'''\n",
        "\n",
        "# Open a file in write mode\n",
        "with open('example.txt', 'w') as file:\n",
        "    file.write('Hello, world!')\n"
      ]
    },
    {
      "cell_type": "code",
      "execution_count": 4,
      "metadata": {
        "colab": {
          "base_uri": "https://localhost:8080/",
          "height": 70
        },
        "id": "V7sBpPzxUFgJ",
        "outputId": "c80b6d5d-9cb6-41f3-c034-09a6a9161188"
      },
      "outputs": [
        {
          "name": "stdout",
          "output_type": "stream",
          "text": [
            "Hello, world!\n"
          ]
        },
        {
          "data": {
            "application/vnd.google.colaboratory.intrinsic+json": {
              "type": "string"
            },
            "text/plain": [
              "\"\\n\\n'r': Opens the file in read mode.\\n\\nwith ... as: Ensures the file is automatically closed.\\n\\nfor line in file: Iterates over each line in the file.\\n\\nline.strip(): Removes the newline (\\n) and any extra whitespace.\\n\\n\""
            ]
          },
          "execution_count": 4,
          "metadata": {},
          "output_type": "execute_result"
        }
      ],
      "source": [
        "# Q2: Write a Python program to read the contents of a file and print each line.\n",
        "\n",
        "# Replace 'example.txt' with your actual file name\n",
        "with open('example.txt', 'r') as file:\n",
        "    for line in file:\n",
        "        print(line.strip())\n",
        "\n",
        "'''\n",
        "\n",
        "'r': Opens the file in read mode.\n",
        "\n",
        "with ... as: Ensures the file is automatically closed.\n",
        "\n",
        "for line in file: Iterates over each line in the file.\n",
        "\n",
        "line.strip(): Removes the newline (\\n) and any extra whitespace.\n",
        "\n",
        "'''\n"
      ]
    },
    {
      "cell_type": "code",
      "execution_count": 5,
      "metadata": {
        "colab": {
          "base_uri": "https://localhost:8080/"
        },
        "id": "acjgtZm1UFdp",
        "outputId": "1164f9f1-e109-470a-88a4-23282a91484f"
      },
      "outputs": [
        {
          "name": "stdout",
          "output_type": "stream",
          "text": [
            "Error: The file 'nonexistent.txt' was not found.\n"
          ]
        }
      ],
      "source": [
        "# Q3: How would you handle a case where the file doesn't exist while trying to open it for reading?\n",
        "\n",
        "filename = 'nonexistent.txt'\n",
        "\n",
        "try:\n",
        "    with open(filename, 'r') as file:\n",
        "        for line in file:\n",
        "            print(line.strip())\n",
        "except FileNotFoundError:\n",
        "    print(f\"Error: The file '{filename}' was not found.\")\n"
      ]
    },
    {
      "cell_type": "code",
      "execution_count": 6,
      "metadata": {
        "colab": {
          "base_uri": "https://localhost:8080/"
        },
        "id": "9OCNPFekUFbI",
        "outputId": "0233e247-6e32-42f8-a23c-0455419304c5"
      },
      "outputs": [
        {
          "name": "stdout",
          "output_type": "stream",
          "text": [
            "Error: 'input.txt' not found.\n"
          ]
        }
      ],
      "source": [
        "# Q4: Write a Python script that reads from one file and writes its content to another file.\n",
        "\n",
        "# Source file to read from\n",
        "source_file = 'input.txt'\n",
        "\n",
        "# Destination file to write to\n",
        "destination_file = 'output.txt'\n",
        "\n",
        "try:\n",
        "    with open(source_file, 'r') as src, open(destination_file, 'w') as dest:\n",
        "        for line in src:\n",
        "            dest.write(line)\n",
        "    print(f\"Contents copied from '{source_file}' to '{destination_file}'.\")\n",
        "except FileNotFoundError:\n",
        "    print(f\"Error: '{source_file}' not found.\")\n",
        "except Exception as e:\n",
        "    print(f\"An error occurred: {e}\")\n"
      ]
    },
    {
      "cell_type": "code",
      "execution_count": 9,
      "metadata": {
        "colab": {
          "base_uri": "https://localhost:8080/"
        },
        "id": "kELXsXraUFYe",
        "outputId": "5f579f61-c2d9-4b06-a590-405328582412"
      },
      "outputs": [
        {
          "name": "stdout",
          "output_type": "stream",
          "text": [
            "Error: Division by zero is not allowed.\n"
          ]
        }
      ],
      "source": [
        "# Q5: How would you catch and handle division by zero error in Python?\n",
        "\n",
        "try:\n",
        "    a = 10\n",
        "    b = 0\n",
        "    result = a / b  # This will raise ZeroDivisionError\n",
        "except ZeroDivisionError:\n",
        "    print(\"Error: Division by zero is not allowed.\")\n"
      ]
    },
    {
      "cell_type": "code",
      "execution_count": 10,
      "metadata": {
        "colab": {
          "base_uri": "https://localhost:8080/"
        },
        "id": "kiX1-oJlUFV3",
        "outputId": "ad91e076-ff6f-4f5f-8436-02990861972d"
      },
      "outputs": [
        {
          "name": "stderr",
          "output_type": "stream",
          "text": [
            "ERROR:root:Attempted to divide 10 by zero. Error: division by zero\n"
          ]
        },
        {
          "name": "stdout",
          "output_type": "stream",
          "text": [
            "Cannot divide by zero. Error logged.\n"
          ]
        }
      ],
      "source": [
        "# Q6: Write a Python program that logs an error message to a log file when a division by zero exception occurs.\n",
        "\n",
        "import logging\n",
        "\n",
        "# Setup logging\n",
        "logging.basicConfig(\n",
        "    filename='error_log.log',\n",
        "    level=logging.ERROR,\n",
        "    format='%(asctime)s - %(levelname)s - %(message)s'\n",
        ")\n",
        "\n",
        "def divide(a, b):\n",
        "    try:\n",
        "        return a / b\n",
        "    except ZeroDivisionError as e:\n",
        "        logging.error(f\"Attempted to divide {a} by zero. Error: {e}\")\n",
        "        print(\"Cannot divide by zero. Error logged.\")\n",
        "\n",
        "# Example usage\n",
        "num1 = 10\n",
        "num2 = 0\n",
        "\n",
        "result = divide(num1, num2)\n"
      ]
    },
    {
      "cell_type": "code",
      "execution_count": 11,
      "metadata": {
        "colab": {
          "base_uri": "https://localhost:8080/"
        },
        "id": "gFx2UrpHUFSN",
        "outputId": "980e7188-370a-48c6-fda4-f6bf97f0856e"
      },
      "outputs": [
        {
          "name": "stderr",
          "output_type": "stream",
          "text": [
            "WARNING:root:This is a WARNING message\n",
            "ERROR:root:This is an ERROR message\n",
            "CRITICAL:root:This is a CRITICAL message\n"
          ]
        }
      ],
      "source": [
        "# Q7: How do you log information at different levels (INFO, ERROR, WARNING) in Python using the logging module?\n",
        "\n",
        "import logging\n",
        "\n",
        "# Configure logging\n",
        "logging.basicConfig(\n",
        "    filename='log_example.log',\n",
        "    level=logging.DEBUG,  # Set lowest level you want to capture\n",
        "    format='%(asctime)s - %(levelname)s - %(message)s'\n",
        ")\n",
        "\n",
        "# Log messages at different levels\n",
        "logging.debug(\"This is a DEBUG message\")       # For developers\n",
        "logging.info(\"This is an INFO message\")        # General runtime info\n",
        "logging.warning(\"This is a WARNING message\")   # Something unusual\n",
        "logging.error(\"This is an ERROR message\")      # Something went wrong\n",
        "logging.critical(\"This is a CRITICAL message\") # Major failure\n"
      ]
    },
    {
      "cell_type": "code",
      "execution_count": 15,
      "metadata": {
        "colab": {
          "base_uri": "https://localhost:8080/"
        },
        "id": "5F69DUehUFPu",
        "outputId": "a2ebf806-8401-456f-dfc9-a796f2f948ce"
      },
      "outputs": [
        {
          "name": "stdout",
          "output_type": "stream",
          "text": [
            "Error: File not found.\n"
          ]
        }
      ],
      "source": [
        "# Q8: Write a program to handle a file opening error using exception handling.\n",
        "\n",
        "try:\n",
        "    # Try to open a non-existent file\n",
        "    with open(\"non_existing_file.txt\", \"r\") as f:\n",
        "        content = f.read()\n",
        "        print(content)\n",
        "\n",
        "except FileNotFoundError:\n",
        "    print(\"Error: File not found.\")\n",
        "\n",
        "except PermissionError:\n",
        "    print(\"Error: You do not have permission to access this file.\")\n",
        "\n",
        "except Exception as e:\n",
        "    print(f\"An unexpected error occurred: {e}\")\n"
      ]
    },
    {
      "cell_type": "code",
      "execution_count": 18,
      "metadata": {
        "colab": {
          "base_uri": "https://localhost:8080/"
        },
        "id": "aTJFpk7JUFNT",
        "outputId": "50d7c235-47de-4b02-bec7-005b7226d1ad"
      },
      "outputs": [
        {
          "name": "stdout",
          "output_type": "stream",
          "text": [
            "['Hello, world!']\n"
          ]
        }
      ],
      "source": [
        "# Q9: How can you read a file line by line and store its content in a list in Python?\n",
        "\n",
        "\n",
        "#use case 1[readlines()]\n",
        "with open(\"example.txt\", \"r\") as file:\n",
        "    lines = file.readlines()\n",
        "\n",
        "# Remove newline characters if needed\n",
        "lines = [line.strip() for line in lines]\n",
        "\n",
        "print(lines)\n"
      ]
    },
    {
      "cell_type": "code",
      "execution_count": 19,
      "metadata": {
        "colab": {
          "base_uri": "https://localhost:8080/"
        },
        "id": "mxMVOaMzUFK4",
        "outputId": "4d938024-6460-4bb1-9b2a-162a09c55cda"
      },
      "outputs": [
        {
          "name": "stdout",
          "output_type": "stream",
          "text": [
            "['Hello, world!']\n"
          ]
        }
      ],
      "source": [
        "# use case 2[Using a for loop (more memory-efficient)]\n",
        "\n",
        "lines = []\n",
        "with open(\"example.txt\", \"r\") as file:\n",
        "    for line in file:\n",
        "        lines.append(line.strip())\n",
        "\n",
        "print(lines)\n"
      ]
    },
    {
      "cell_type": "code",
      "execution_count": 20,
      "metadata": {
        "colab": {
          "base_uri": "https://localhost:8080/"
        },
        "id": "RrH-mPvlUFIi",
        "outputId": "01187eea-0b2b-4f40-e318-e1ffd3ea323e"
      },
      "outputs": [
        {
          "name": "stdout",
          "output_type": "stream",
          "text": [
            "['Hello, world!']\n"
          ]
        }
      ],
      "source": [
        "# use case 3 [List comprehension (compact)]\n",
        "\n",
        "with open(\"example.txt\", \"r\") as file:\n",
        "    lines = [line.strip() for line in file]\n",
        "\n",
        "print(lines)\n"
      ]
    },
    {
      "cell_type": "code",
      "execution_count": 22,
      "metadata": {
        "colab": {
          "base_uri": "https://localhost:8080/"
        },
        "id": "xUTVA81cUFGA",
        "outputId": "338e3175-30af-489c-d925-83bb4e728188"
      },
      "outputs": [
        {
          "name": "stdout",
          "output_type": "stream",
          "text": [
            "This will be added to the end of the file.\n",
            "This will be added to the end of the file.\n",
            "\n"
          ]
        }
      ],
      "source": [
        "# Q10: How can you append data to an existing file in Python?\n",
        "\n",
        "with open(\"filename.txt\", \"a\") as file:\n",
        "    file.write(\"This will be added to the end of the file.\\n\")\n",
        "\n",
        "# want to read\n",
        "\n",
        "with open(\"filename.txt\", \"r\") as f:\n",
        "    print(f.read())\n",
        "\n",
        "\n",
        "\n"
      ]
    },
    {
      "cell_type": "code",
      "execution_count": 23,
      "metadata": {
        "colab": {
          "base_uri": "https://localhost:8080/"
        },
        "id": "Zm1SQjJoUFDu",
        "outputId": "8e79f036-1e9a-4c50-93e1-1e206b2238f2"
      },
      "outputs": [
        {
          "name": "stdout",
          "output_type": "stream",
          "text": [
            "Error: 'grade' key does not exist in the dictionary.\n"
          ]
        }
      ],
      "source": [
        "# Q11: Write a Python program that uses a try-except block to handle an error when attempting to access a dictionary key that doesn't exist.\n",
        "\n",
        "student = {\n",
        "    \"name\": \"Akash\",\n",
        "    \"age\": 20,\n",
        "    \"course\": \"Data Science\"\n",
        "}\n",
        "\n",
        "try:\n",
        "    # Trying to access a key that might not exist\n",
        "    print(\"Student's grade is:\", student[\"grade\"])\n",
        "except KeyError:\n",
        "    print(\"Error: 'grade' key does not exist in the dictionary.\")\n"
      ]
    },
    {
      "cell_type": "code",
      "execution_count": 25,
      "metadata": {
        "colab": {
          "base_uri": "https://localhost:8080/"
        },
        "id": "G263kClYUFBb",
        "outputId": "2a13d253-5adc-45c4-993d-835a9e6d8ff5"
      },
      "outputs": [
        {
          "name": "stdout",
          "output_type": "stream",
          "text": [
            "Enter a number: 10\n",
            "Enter another number: 0\n",
            "Error: You can't divide by zero.\n"
          ]
        }
      ],
      "source": [
        "# Q12: Write a program that demonstrates using multiple except blocks to handle different types of exceptions.\n",
        "\n",
        "try:\n",
        "    num1 = int(input(\"Enter a number: \"))\n",
        "    num2 = int(input(\"Enter another number: \"))\n",
        "    result = num1 / num2\n",
        "    print(\"Result:\", result)\n",
        "\n",
        "except ZeroDivisionError:\n",
        "    print(\"Error: You can't divide by zero.\")\n",
        "\n",
        "except ValueError:\n",
        "    print(\"Error: Invalid input. Please enter numeric values only.\")\n",
        "\n",
        "except Exception as e:\n",
        "    print(f\"An unexpected error occurred: {e}\")\n"
      ]
    },
    {
      "cell_type": "code",
      "execution_count": 26,
      "metadata": {
        "colab": {
          "base_uri": "https://localhost:8080/"
        },
        "id": "KMmo5X6VUE-h",
        "outputId": "ce3b6be2-4119-4926-df14-290e2cea5875"
      },
      "outputs": [
        {
          "name": "stdout",
          "output_type": "stream",
          "text": [
            "Hello, world!\n"
          ]
        }
      ],
      "source": [
        "# Q13: How would you check if a file exists before attempting to read it in Python?\n",
        "\n",
        "from pathlib import Path\n",
        "\n",
        "file = Path(\"example.txt\")\n",
        "\n",
        "if file.exists():\n",
        "    with file.open(\"r\") as f:\n",
        "        content = f.read()\n",
        "        print(content)\n",
        "else:\n",
        "    print(\"File not found.\")\n"
      ]
    },
    {
      "cell_type": "code",
      "execution_count": 27,
      "metadata": {
        "colab": {
          "base_uri": "https://localhost:8080/"
        },
        "id": "-w0CVKQcUE7d",
        "outputId": "628a8b67-eb55-4cf3-b50a-064f756c094f"
      },
      "outputs": [
        {
          "name": "stderr",
          "output_type": "stream",
          "text": [
            "ERROR:root:Error occurred: division by zero\n"
          ]
        }
      ],
      "source": [
        "# Q14: Write a program that uses the logging module to log both informational and error messages.\n",
        "\n",
        "import logging\n",
        "\n",
        "# Configure logging\n",
        "logging.basicConfig(\n",
        "    filename=\"app.log\",                 # Log file name\n",
        "    level=logging.INFO,                # Minimum level to log\n",
        "    format=\"%(asctime)s - %(levelname)s - %(message)s\",\n",
        "    datefmt=\"%d-%m-%Y %I:%M:%S %p\"\n",
        ")\n",
        "\n",
        "def divide(a, b):\n",
        "    logging.info(f\"Attempting to divide {a} by {b}\")\n",
        "    try:\n",
        "        result = a / b\n",
        "        logging.info(f\"Division successful: {result}\")\n",
        "        return result\n",
        "    except ZeroDivisionError as e:\n",
        "        logging.error(f\"Error occurred: {e}\")\n",
        "        return None\n",
        "\n",
        "# Example usage\n",
        "divide(10, 2)   # Successful division (logs INFO)\n",
        "divide(5, 0)    # Triggers ZeroDivisionError (logs ERROR)\n"
      ]
    },
    {
      "cell_type": "code",
      "execution_count": 28,
      "metadata": {
        "colab": {
          "base_uri": "https://localhost:8080/"
        },
        "id": "iTBO__4WUE33",
        "outputId": "4b86695f-3cfe-4c8d-b353-8816b2da6475"
      },
      "outputs": [
        {
          "name": "stdout",
          "output_type": "stream",
          "text": [
            "File content:\n",
            "Hello, world!\n"
          ]
        }
      ],
      "source": [
        "# Q15: Write a Python program that prints the content of a file and handles the case when the file is empty.\n",
        "\n",
        "def read_file(filename):\n",
        "    try:\n",
        "        with open(filename, \"r\") as file:\n",
        "            content = file.read()\n",
        "            if content.strip() == \"\":\n",
        "                print(\"The file is empty.\")\n",
        "            else:\n",
        "                print(\"File content:\")\n",
        "                print(content)\n",
        "    except FileNotFoundError:\n",
        "        print(f\"Error: The file '{filename}' was not found.\")\n",
        "    except Exception as e:\n",
        "        print(f\"An unexpected error occurred: {e}\")\n",
        "\n",
        "# Example usage\n",
        "read_file(\"example.txt\")  # Replace with your actual file name\n"
      ]
    },
    {
      "cell_type": "code",
      "execution_count": 32,
      "metadata": {
        "colab": {
          "base_uri": "https://localhost:8080/"
        },
        "id": "0W7ux0xcUE1V",
        "outputId": "9d5e6e46-6b9e-483d-cb90-9b94ec9fd9e5"
      },
      "outputs": [
        {
          "name": "stdout",
          "output_type": "stream",
          "text": [
            "Requirement already satisfied: memory-profiler in /usr/local/lib/python3.11/dist-packages (0.61.0)\n",
            "Requirement already satisfied: psutil in /usr/local/lib/python3.11/dist-packages (from memory-profiler) (5.9.5)\n",
            "Memory used: 36.15 MiB\n"
          ]
        }
      ],
      "source": [
        "# Q16: Demonstrate how to use memory profiling to check the memory usage of a small program.\n",
        "\n",
        "!pip install memory-profiler\n",
        "\n",
        "\n",
        "from memory_profiler import memory_usage\n",
        "\n",
        "def create_large_list():\n",
        "    data = [i for i in range(1000000)]  # Simulate memory usage\n",
        "    return data\n",
        "\n",
        "# Measure memory usage\n",
        "mem_used = memory_usage(create_large_list)\n",
        "\n",
        "print(f\"Memory used: {max(mem_used) - min(mem_used):.2f} MiB\")\n",
        "\n"
      ]
    },
    {
      "cell_type": "code",
      "execution_count": 33,
      "metadata": {
        "colab": {
          "base_uri": "https://localhost:8080/"
        },
        "id": "XozFRBiaUEzF",
        "outputId": "ba6c11a2-ac9c-4564-bcc8-5c351373dc7c"
      },
      "outputs": [
        {
          "name": "stdout",
          "output_type": "stream",
          "text": [
            "Numbers written to numbers.txt\n"
          ]
        }
      ],
      "source": [
        "# Q17: Write a Python program to create and write a list of numbers to a file, one number per line.\n",
        "\n",
        "# List of numbers\n",
        "numbers = [10, 20, 30, 40, 50]\n",
        "\n",
        "# File to write to\n",
        "filename = \"numbers.txt\"\n",
        "\n",
        "# Write each number to a new line\n",
        "with open(filename, \"w\") as file:\n",
        "    for number in numbers:\n",
        "        file.write(f\"{number}\\n\")\n",
        "\n",
        "print(f\"Numbers written to {filename}\")\n"
      ]
    },
    {
      "cell_type": "code",
      "execution_count": 35,
      "metadata": {
        "colab": {
          "base_uri": "https://localhost:8080/"
        },
        "id": "X6HGAs_cUEwq",
        "outputId": "8d87798c-184e-4341-adf2-e307cd81fd95"
      },
      "outputs": [
        {
          "name": "stderr",
          "output_type": "stream",
          "text": [
            "INFO:root:This is log message number 0\n",
            "INFO:root:This is log message number 1\n",
            "INFO:root:This is log message number 2\n",
            "INFO:root:This is log message number 3\n",
            "INFO:root:This is log message number 4\n",
            "INFO:root:This is log message number 5\n",
            "INFO:root:This is log message number 6\n",
            "INFO:root:This is log message number 7\n",
            "INFO:root:This is log message number 8\n",
            "INFO:root:This is log message number 9\n",
            "INFO:root:This is log message number 10\n",
            "INFO:root:This is log message number 11\n",
            "INFO:root:This is log message number 12\n",
            "INFO:root:This is log message number 13\n",
            "INFO:root:This is log message number 14\n",
            "INFO:root:This is log message number 15\n",
            "INFO:root:This is log message number 16\n",
            "INFO:root:This is log message number 17\n",
            "INFO:root:This is log message number 18\n",
            "INFO:root:This is log message number 19\n",
            "INFO:root:This is log message number 20\n",
            "INFO:root:This is log message number 21\n",
            "INFO:root:This is log message number 22\n",
            "INFO:root:This is log message number 23\n",
            "INFO:root:This is log message number 24\n",
            "INFO:root:This is log message number 25\n",
            "INFO:root:This is log message number 26\n",
            "INFO:root:This is log message number 27\n",
            "INFO:root:This is log message number 28\n",
            "INFO:root:This is log message number 29\n",
            "INFO:root:This is log message number 30\n",
            "INFO:root:This is log message number 31\n",
            "INFO:root:This is log message number 32\n",
            "INFO:root:This is log message number 33\n",
            "INFO:root:This is log message number 34\n",
            "INFO:root:This is log message number 35\n",
            "INFO:root:This is log message number 36\n",
            "INFO:root:This is log message number 37\n",
            "INFO:root:This is log message number 38\n",
            "INFO:root:This is log message number 39\n",
            "INFO:root:This is log message number 40\n",
            "INFO:root:This is log message number 41\n",
            "INFO:root:This is log message number 42\n",
            "INFO:root:This is log message number 43\n",
            "INFO:root:This is log message number 44\n",
            "INFO:root:This is log message number 45\n",
            "INFO:root:This is log message number 46\n",
            "INFO:root:This is log message number 47\n",
            "INFO:root:This is log message number 48\n",
            "INFO:root:This is log message number 49\n",
            "INFO:root:This is log message number 50\n",
            "INFO:root:This is log message number 51\n",
            "INFO:root:This is log message number 52\n",
            "INFO:root:This is log message number 53\n",
            "INFO:root:This is log message number 54\n",
            "INFO:root:This is log message number 55\n",
            "INFO:root:This is log message number 56\n",
            "INFO:root:This is log message number 57\n",
            "INFO:root:This is log message number 58\n",
            "INFO:root:This is log message number 59\n",
            "INFO:root:This is log message number 60\n",
            "INFO:root:This is log message number 61\n",
            "INFO:root:This is log message number 62\n",
            "INFO:root:This is log message number 63\n",
            "INFO:root:This is log message number 64\n",
            "INFO:root:This is log message number 65\n",
            "INFO:root:This is log message number 66\n",
            "INFO:root:This is log message number 67\n",
            "INFO:root:This is log message number 68\n",
            "INFO:root:This is log message number 69\n",
            "INFO:root:This is log message number 70\n",
            "INFO:root:This is log message number 71\n",
            "INFO:root:This is log message number 72\n",
            "INFO:root:This is log message number 73\n",
            "INFO:root:This is log message number 74\n",
            "INFO:root:This is log message number 75\n",
            "INFO:root:This is log message number 76\n",
            "INFO:root:This is log message number 77\n",
            "INFO:root:This is log message number 78\n",
            "INFO:root:This is log message number 79\n",
            "INFO:root:This is log message number 80\n",
            "INFO:root:This is log message number 81\n",
            "INFO:root:This is log message number 82\n",
            "INFO:root:This is log message number 83\n",
            "INFO:root:This is log message number 84\n",
            "INFO:root:This is log message number 85\n",
            "INFO:root:This is log message number 86\n",
            "INFO:root:This is log message number 87\n",
            "INFO:root:This is log message number 88\n",
            "INFO:root:This is log message number 89\n",
            "INFO:root:This is log message number 90\n",
            "INFO:root:This is log message number 91\n",
            "INFO:root:This is log message number 92\n",
            "INFO:root:This is log message number 93\n",
            "INFO:root:This is log message number 94\n",
            "INFO:root:This is log message number 95\n",
            "INFO:root:This is log message number 96\n",
            "INFO:root:This is log message number 97\n",
            "INFO:root:This is log message number 98\n",
            "INFO:root:This is log message number 99\n"
          ]
        }
      ],
      "source": [
        "# Q18: How would you implement a basic logging setup that logs to a file with rotation after IMB?\n",
        "\n",
        "import logging\n",
        "from logging.handlers import RotatingFileHandler\n",
        "\n",
        "# Create a rotating file handler\n",
        "log_handler = RotatingFileHandler(\n",
        "    \"app.log\",              # Log file name\n",
        "    maxBytes=1_000_000,     # Rotate after 1MB (1,000,000 bytes)\n",
        "    backupCount=3           # Keep up to 3 old log files\n",
        ")\n",
        "\n",
        "# Set log format\n",
        "formatter = logging.Formatter('%(asctime)s - %(levelname)s - %(message)s')\n",
        "log_handler.setFormatter(formatter)\n",
        "\n",
        "# Get root logger and configure it\n",
        "logger = logging.getLogger()\n",
        "logger.setLevel(logging.INFO)\n",
        "logger.addHandler(log_handler)\n",
        "\n",
        "# Sample logging\n",
        "for i in range(100):\n",
        "    logger.info(f\"This is log message number {i}\")\n"
      ]
    },
    {
      "cell_type": "code",
      "execution_count": 36,
      "metadata": {
        "colab": {
          "base_uri": "https://localhost:8080/"
        },
        "id": "_dSu-tp2UEuk",
        "outputId": "74ce2e79-a1b8-41e1-e4ae-d45ee6d93422"
      },
      "outputs": [
        {
          "name": "stdout",
          "output_type": "stream",
          "text": [
            "Error: List index is out of range.\n"
          ]
        }
      ],
      "source": [
        "# Q19: Write a program that handles both IndexError and KeyError using a try-except block?\n",
        "\n",
        "def demo_error_handling():\n",
        "    my_list = [1, 2, 3]\n",
        "    my_dict = {\"name\": \"Akash\", \"age\": 21}\n",
        "\n",
        "    try:\n",
        "        # Intentionally cause IndexError\n",
        "        print(\"List item at index 5:\", my_list[5])\n",
        "\n",
        "        # Intentionally cause KeyError\n",
        "        print(\"Student grade:\", my_dict[\"grade\"])\n",
        "\n",
        "    except IndexError:\n",
        "        print(\"Error: List index is out of range.\")\n",
        "\n",
        "    except KeyError:\n",
        "        print(\"Error: Dictionary key not found.\")\n",
        "\n",
        "    except Exception as e:\n",
        "        print(f\"An unexpected error occurred: {e}\")\n",
        "\n",
        "# Run the function\n",
        "demo_error_handling()\n",
        "\n"
      ]
    },
    {
      "cell_type": "code",
      "execution_count": 37,
      "metadata": {
        "colab": {
          "base_uri": "https://localhost:8080/"
        },
        "id": "a2hlNJQsUEsD",
        "outputId": "73c83c3d-c4f9-4bdc-b5c7-df9b3487210b"
      },
      "outputs": [
        {
          "name": "stdout",
          "output_type": "stream",
          "text": [
            "Hello, world!\n"
          ]
        }
      ],
      "source": [
        "# Q20: How would you open a file and read its contents using a context manager in Python?\n",
        "\n",
        "with open(\"example.txt\", \"r\") as file:\n",
        "    content = file.read()\n",
        "    print(content)\n",
        "\n"
      ]
    },
    {
      "cell_type": "code",
      "execution_count": 41,
      "metadata": {
        "colab": {
          "base_uri": "https://localhost:8080/"
        },
        "id": "Mf_iRlZpUEpl",
        "outputId": "7a1d68c7-9aec-4a12-8ed8-8cef43d5c67f"
      },
      "outputs": [
        {
          "name": "stdout",
          "output_type": "stream",
          "text": [
            "The word 'python' appears 0 times.\n"
          ]
        }
      ],
      "source": [
        "# Q21: Write a Python program that reads a file and prints the number of occurrences of a specific word.\n",
        "\n",
        "def count_word_occurrences(filename, word_to_count):\n",
        "    try:\n",
        "        with open(filename, \"r\") as file:\n",
        "            content = file.read()\n",
        "            # Make it case-insensitive and split by whitespace\n",
        "            words = content.lower().split()\n",
        "            count = words.count(word_to_count.lower())\n",
        "            print(f\"The word '{word_to_count}' appears {count} times.\")\n",
        "    except FileNotFoundError:\n",
        "        print(f\"Error: File '{filename}' not found.\")\n",
        "    except Exception as e:\n",
        "        print(f\"An error occurred: {e}\")\n",
        "\n",
        "# Example usage\n",
        "count_word_occurrences(\"example.txt\", \"python\")\n"
      ]
    },
    {
      "cell_type": "code",
      "execution_count": 42,
      "metadata": {
        "colab": {
          "base_uri": "https://localhost:8080/"
        },
        "id": "WpVVBCUkUEmq",
        "outputId": "5beb5102-a7cb-4c64-894c-c3dcd76bff1f"
      },
      "outputs": [
        {
          "name": "stdout",
          "output_type": "stream",
          "text": [
            "Hello, world!\n"
          ]
        }
      ],
      "source": [
        "# Q22: How can you check if a file is empty before attempting to read its contents?\n",
        "\n",
        "# Method 1: Using os.stat().st_size\n",
        "\n",
        "import os\n",
        "\n",
        "filename = \"example.txt\"\n",
        "\n",
        "if os.path.exists(filename) and os.stat(filename).st_size == 0:\n",
        "    print(\"The file is empty.\")\n",
        "else:\n",
        "    with open(filename, \"r\") as f:\n",
        "        content = f.read()\n",
        "        print(content)\n"
      ]
    },
    {
      "cell_type": "code",
      "execution_count": 43,
      "metadata": {
        "colab": {
          "base_uri": "https://localhost:8080/"
        },
        "id": "HSEeFt0iUEjx",
        "outputId": "cff50777-317c-422b-c281-defdee54cb78"
      },
      "outputs": [
        {
          "name": "stdout",
          "output_type": "stream",
          "text": [
            "File content:\n",
            "Hello, world!\n"
          ]
        }
      ],
      "source": [
        "# Method 2: Read and check if content is empty\n",
        "\n",
        "with open(\"example.txt\", \"r\") as f:\n",
        "    content = f.read()\n",
        "    if not content.strip():   # Remove whitespaces/newlines\n",
        "        print(\"The file is empty.\")\n",
        "    else:\n",
        "        print(\"File content:\")\n",
        "        print(content)\n"
      ]
    },
    {
      "cell_type": "code",
      "execution_count": 44,
      "metadata": {
        "colab": {
          "base_uri": "https://localhost:8080/"
        },
        "id": "B499SqMYUEch",
        "outputId": "ac3830ec-5d50-4ec6-d3ee-aff66d463886"
      },
      "outputs": [
        {
          "name": "stdout",
          "output_type": "stream",
          "text": [
            "The file has content.\n"
          ]
        }
      ],
      "source": [
        "# Method 3: Using Path from pathlib\n",
        "\n",
        "from pathlib import Path\n",
        "\n",
        "file = Path(\"example.txt\")\n",
        "\n",
        "if file.exists() and file.stat().st_size == 0:\n",
        "    print(\"The file is empty.\")\n",
        "else:\n",
        "    print(\"The file has content.\")\n"
      ]
    },
    {
      "cell_type": "code",
      "execution_count": 45,
      "metadata": {
        "colab": {
          "base_uri": "https://localhost:8080/"
        },
        "id": "jyZjt2ukUEZX",
        "outputId": "3317c47b-c368-43e0-9db4-63484a885371"
      },
      "outputs": [
        {
          "name": "stderr",
          "output_type": "stream",
          "text": [
            "ERROR:root:FileNotFoundError: [Errno 2] No such file or directory: 'nonexistent_file.txt'\n"
          ]
        },
        {
          "name": "stdout",
          "output_type": "stream",
          "text": [
            "File not found!\n"
          ]
        }
      ],
      "source": [
        "# Q23: Write a Python program that writes to a log file when an error occurs during file handling.\n",
        "\n",
        "import logging\n",
        "\n",
        "# Set up logging configuration\n",
        "logging.basicConfig(\n",
        "    filename=\"file_errors.log\",           # Log file name\n",
        "    level=logging.ERROR,                  # Log only errors and above\n",
        "    format=\"%(asctime)s - %(levelname)s - %(message)s\",\n",
        "    datefmt=\"%d-%m-%Y %I:%M:%S %p\"\n",
        ")\n",
        "\n",
        "def read_file(filename):\n",
        "    try:\n",
        "        with open(filename, \"r\") as file:\n",
        "            content = file.read()\n",
        "            print(\"File Content:\\n\", content)\n",
        "    except FileNotFoundError as e:\n",
        "        print(\"File not found!\")\n",
        "        logging.error(f\"FileNotFoundError: {e}\")\n",
        "    except Exception as e:\n",
        "        print(\"An unexpected error occurred.\")\n",
        "        logging.error(f\"Unexpected error: {e}\")\n",
        "\n",
        "# Example usage\n",
        "read_file(\"nonexistent_file.txt\")\n"
      ]
    },
    {
      "cell_type": "code",
      "execution_count": null,
      "metadata": {
        "id": "ttMUOeb-UEVf"
      },
      "outputs": [],
      "source": []
    },
    {
      "cell_type": "code",
      "execution_count": null,
      "metadata": {
        "id": "0h0E3G6SUEQO"
      },
      "outputs": [],
      "source": []
    },
    {
      "cell_type": "code",
      "execution_count": null,
      "metadata": {
        "id": "S6Cyvx0kUEJq"
      },
      "outputs": [],
      "source": []
    },
    {
      "cell_type": "code",
      "execution_count": null,
      "metadata": {
        "id": "V0Z428vHUEB_"
      },
      "outputs": [],
      "source": []
    },
    {
      "cell_type": "code",
      "execution_count": null,
      "metadata": {
        "id": "bglEQul8UD0z"
      },
      "outputs": [],
      "source": []
    },
    {
      "cell_type": "code",
      "execution_count": null,
      "metadata": {
        "id": "N4vdd_-mUBgd"
      },
      "outputs": [],
      "source": []
    }
  ],
  "metadata": {
    "colab": {
      "provenance": []
    },
    "kernelspec": {
      "display_name": "Python 3",
      "name": "python3"
    },
    "language_info": {
      "name": "python"
    }
  },
  "nbformat": 4,
  "nbformat_minor": 0
}
